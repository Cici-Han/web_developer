{
 "cells": [
  {
   "cell_type": "markdown",
   "metadata": {},
   "source": [
    "## HTML \n",
    "- title <h1> - <h6>\n",
    "- paragraph <p></p>\n",
    "- list order <ol></ol>, unorder <ul></ul>, item <li></li>\n",
    "- anchor tag <a href=\"\"></a>"
   ]
  }
 ],
 "metadata": {
  "kernelspec": {
   "display_name": "Python 3.10.6 64-bit",
   "language": "python",
   "name": "python3"
  },
  "language_info": {
   "codemirror_mode": {
    "name": "ipython",
    "version": 3
   },
   "file_extension": ".py",
   "mimetype": "text/x-python",
   "name": "python",
   "nbconvert_exporter": "python",
   "pygments_lexer": "ipython3",
   "version": "3.10.6"
  },
  "orig_nbformat": 4,
  "vscode": {
   "interpreter": {
    "hash": "1d14b8a9688bdfdc3a94bfe3a284a3bff033c896e46c041fb3154e5a36eabacf"
   }
  }
 },
 "nbformat": 4,
 "nbformat_minor": 2
}
